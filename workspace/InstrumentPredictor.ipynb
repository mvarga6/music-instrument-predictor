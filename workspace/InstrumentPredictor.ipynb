{
 "cells": [
  {
   "cell_type": "code",
   "execution_count": 1,
   "id": "c854b97f-e2e7-47be-8347-f5257835e969",
   "metadata": {
    "scrolled": true
   },
   "outputs": [
    {
     "name": "stdout",
     "output_type": "stream",
     "text": [
      "Collecting librosa\n",
      "  Downloading librosa-0.10.1-py3-none-any.whl.metadata (8.3 kB)\n",
      "Collecting audioread>=2.1.9 (from librosa)\n",
      "  Downloading audioread-3.0.1-py3-none-any.whl.metadata (8.4 kB)\n",
      "Requirement already satisfied: numpy!=1.22.0,!=1.22.1,!=1.22.2,>=1.20.3 in /opt/conda/lib/python3.11/site-packages (from librosa) (1.26.3)\n",
      "Requirement already satisfied: scipy>=1.2.0 in /opt/conda/lib/python3.11/site-packages (from librosa) (1.11.4)\n",
      "Requirement already satisfied: scikit-learn>=0.20.0 in /opt/conda/lib/python3.11/site-packages (from librosa) (1.3.2)\n",
      "Requirement already satisfied: joblib>=0.14 in /opt/conda/lib/python3.11/site-packages (from librosa) (1.3.2)\n",
      "Requirement already satisfied: decorator>=4.3.0 in /opt/conda/lib/python3.11/site-packages (from librosa) (5.1.1)\n",
      "Requirement already satisfied: numba>=0.51.0 in /opt/conda/lib/python3.11/site-packages (from librosa) (0.58.1)\n",
      "Collecting soundfile>=0.12.1 (from librosa)\n",
      "  Downloading soundfile-0.12.1-py2.py3-none-manylinux_2_31_x86_64.whl (1.2 MB)\n",
      "\u001b[2K     \u001b[90m━━━━━━━━━━━━━━━━━━━━━━━━━━━━━━━━━━━━━━━━\u001b[0m \u001b[32m1.2/1.2 MB\u001b[0m \u001b[31m1.9 MB/s\u001b[0m eta \u001b[36m0:00:00\u001b[0m00:01\u001b[0m00:01\u001b[0m0m\n",
      "\u001b[?25hCollecting pooch>=1.0 (from librosa)\n",
      "  Downloading pooch-1.8.0-py3-none-any.whl.metadata (9.9 kB)\n",
      "Collecting soxr>=0.3.2 (from librosa)\n",
      "  Downloading soxr-0.3.7-cp311-cp311-manylinux_2_17_x86_64.manylinux2014_x86_64.whl.metadata (5.5 kB)\n",
      "Requirement already satisfied: typing-extensions>=4.1.1 in /opt/conda/lib/python3.11/site-packages (from librosa) (4.9.0)\n",
      "Requirement already satisfied: lazy-loader>=0.1 in /opt/conda/lib/python3.11/site-packages (from librosa) (0.3)\n",
      "Requirement already satisfied: msgpack>=1.0 in /opt/conda/lib/python3.11/site-packages (from librosa) (1.0.7)\n",
      "Requirement already satisfied: llvmlite<0.42,>=0.41.0dev0 in /opt/conda/lib/python3.11/site-packages (from numba>=0.51.0->librosa) (0.41.1)\n",
      "Requirement already satisfied: platformdirs>=2.5.0 in /opt/conda/lib/python3.11/site-packages (from pooch>=1.0->librosa) (4.1.0)\n",
      "Requirement already satisfied: packaging>=20.0 in /opt/conda/lib/python3.11/site-packages (from pooch>=1.0->librosa) (23.2)\n",
      "Requirement already satisfied: requests>=2.19.0 in /opt/conda/lib/python3.11/site-packages (from pooch>=1.0->librosa) (2.31.0)\n",
      "Requirement already satisfied: threadpoolctl>=2.0.0 in /opt/conda/lib/python3.11/site-packages (from scikit-learn>=0.20.0->librosa) (3.2.0)\n",
      "Requirement already satisfied: cffi>=1.0 in /opt/conda/lib/python3.11/site-packages (from soundfile>=0.12.1->librosa) (1.16.0)\n",
      "Requirement already satisfied: pycparser in /opt/conda/lib/python3.11/site-packages (from cffi>=1.0->soundfile>=0.12.1->librosa) (2.21)\n",
      "Requirement already satisfied: charset-normalizer<4,>=2 in /opt/conda/lib/python3.11/site-packages (from requests>=2.19.0->pooch>=1.0->librosa) (3.3.2)\n",
      "Requirement already satisfied: idna<4,>=2.5 in /opt/conda/lib/python3.11/site-packages (from requests>=2.19.0->pooch>=1.0->librosa) (3.6)\n",
      "Requirement already satisfied: urllib3<3,>=1.21.1 in /opt/conda/lib/python3.11/site-packages (from requests>=2.19.0->pooch>=1.0->librosa) (2.1.0)\n",
      "Requirement already satisfied: certifi>=2017.4.17 in /opt/conda/lib/python3.11/site-packages (from requests>=2.19.0->pooch>=1.0->librosa) (2023.11.17)\n",
      "Downloading librosa-0.10.1-py3-none-any.whl (253 kB)\n",
      "\u001b[2K   \u001b[90m━━━━━━━━━━━━━━━━━━━━━━━━━━━━━━━━━━━━━━━━\u001b[0m \u001b[32m253.7/253.7 kB\u001b[0m \u001b[31m4.4 MB/s\u001b[0m eta \u001b[36m0:00:00\u001b[0ma \u001b[36m0:00:01\u001b[0m\n",
      "\u001b[?25hDownloading audioread-3.0.1-py3-none-any.whl (23 kB)\n",
      "Downloading pooch-1.8.0-py3-none-any.whl (62 kB)\n",
      "\u001b[2K   \u001b[90m━━━━━━━━━━━━━━━━━━━━━━━━━━━━━━━━━━━━━━━━\u001b[0m \u001b[32m62.7/62.7 kB\u001b[0m \u001b[31m4.2 MB/s\u001b[0m eta \u001b[36m0:00:00\u001b[0m\n",
      "\u001b[?25hDownloading soxr-0.3.7-cp311-cp311-manylinux_2_17_x86_64.manylinux2014_x86_64.whl (1.3 MB)\n",
      "\u001b[2K   \u001b[90m━━━━━━━━━━━━━━━━━━━━━━━━━━━━━━━━━━━━━━━━\u001b[0m \u001b[32m1.3/1.3 MB\u001b[0m \u001b[31m4.4 MB/s\u001b[0m eta \u001b[36m0:00:00\u001b[0ma \u001b[36m0:00:01\u001b[0m\n",
      "\u001b[?25hInstalling collected packages: soxr, audioread, soundfile, pooch, librosa\n",
      "Successfully installed audioread-3.0.1 librosa-0.10.1 pooch-1.8.0 soundfile-0.12.1 soxr-0.3.7\n",
      "Requirement already satisfied: matplotlib in /opt/conda/lib/python3.11/site-packages (3.8.2)\n",
      "Requirement already satisfied: contourpy>=1.0.1 in /opt/conda/lib/python3.11/site-packages (from matplotlib) (1.2.0)\n",
      "Requirement already satisfied: cycler>=0.10 in /opt/conda/lib/python3.11/site-packages (from matplotlib) (0.12.1)\n",
      "Requirement already satisfied: fonttools>=4.22.0 in /opt/conda/lib/python3.11/site-packages (from matplotlib) (4.47.2)\n",
      "Requirement already satisfied: kiwisolver>=1.3.1 in /opt/conda/lib/python3.11/site-packages (from matplotlib) (1.4.5)\n",
      "Requirement already satisfied: numpy<2,>=1.21 in /opt/conda/lib/python3.11/site-packages (from matplotlib) (1.26.3)\n",
      "Requirement already satisfied: packaging>=20.0 in /opt/conda/lib/python3.11/site-packages (from matplotlib) (23.2)\n",
      "Requirement already satisfied: pillow>=8 in /opt/conda/lib/python3.11/site-packages (from matplotlib) (10.2.0)\n",
      "Requirement already satisfied: pyparsing>=2.3.1 in /opt/conda/lib/python3.11/site-packages (from matplotlib) (3.1.1)\n",
      "Requirement already satisfied: python-dateutil>=2.7 in /opt/conda/lib/python3.11/site-packages (from matplotlib) (2.8.2)\n",
      "Requirement already satisfied: six>=1.5 in /opt/conda/lib/python3.11/site-packages (from python-dateutil>=2.7->matplotlib) (1.16.0)\n"
     ]
    }
   ],
   "source": [
    "!pip install librosa\n",
    "!pip install matplotlib"
   ]
  },
  {
   "cell_type": "code",
   "execution_count": 48,
   "id": "f30c62a4-7ea1-4cf2-9626-58a82dbef1a1",
   "metadata": {},
   "outputs": [],
   "source": [
    "import librosa\n",
    "import sklearn\n",
    "import json\n",
    "import numpy as np\n",
    "import matplotlib.pyplot as plt\n",
    "import pandas as pd"
   ]
  },
  {
   "cell_type": "code",
   "execution_count": 58,
   "id": "adff3d54-6fe5-4568-a714-e0afcbc3229a",
   "metadata": {},
   "outputs": [
    {
     "data": {
      "text/html": [
       "<div>\n",
       "<style scoped>\n",
       "    .dataframe tbody tr th:only-of-type {\n",
       "        vertical-align: middle;\n",
       "    }\n",
       "\n",
       "    .dataframe tbody tr th {\n",
       "        vertical-align: top;\n",
       "    }\n",
       "\n",
       "    .dataframe thead th {\n",
       "        text-align: right;\n",
       "    }\n",
       "</style>\n",
       "<table border=\"1\" class=\"dataframe\">\n",
       "  <thead>\n",
       "    <tr style=\"text-align: right;\">\n",
       "      <th></th>\n",
       "      <th>note_str</th>\n",
       "      <th>sample_rate</th>\n",
       "      <th>qualities_str</th>\n",
       "      <th>instrument_source</th>\n",
       "      <th>instrument_family_str</th>\n",
       "      <th>instrument_family</th>\n",
       "      <th>note</th>\n",
       "      <th>instrument_source_str</th>\n",
       "      <th>qualities</th>\n",
       "      <th>pitch</th>\n",
       "      <th>instrument_str</th>\n",
       "      <th>instrument</th>\n",
       "      <th>velocity</th>\n",
       "    </tr>\n",
       "  </thead>\n",
       "  <tbody>\n",
       "    <tr>\n",
       "      <th>keyboard_acoustic_004-060-025</th>\n",
       "      <td>keyboard_acoustic_004-060-025</td>\n",
       "      <td>16000</td>\n",
       "      <td>[dark, reverb]</td>\n",
       "      <td>0</td>\n",
       "      <td>keyboard</td>\n",
       "      <td>4</td>\n",
       "      <td>278915</td>\n",
       "      <td>acoustic</td>\n",
       "      <td>[0, 1, 0, 0, 0, 0, 0, 0, 1, 0]</td>\n",
       "      <td>60</td>\n",
       "      <td>keyboard_acoustic_004</td>\n",
       "      <td>327</td>\n",
       "      <td>25</td>\n",
       "    </tr>\n",
       "    <tr>\n",
       "      <th>bass_synthetic_033-050-100</th>\n",
       "      <td>bass_synthetic_033-050-100</td>\n",
       "      <td>16000</td>\n",
       "      <td>[dark]</td>\n",
       "      <td>2</td>\n",
       "      <td>bass</td>\n",
       "      <td>0</td>\n",
       "      <td>270361</td>\n",
       "      <td>synthetic</td>\n",
       "      <td>[0, 1, 0, 0, 0, 0, 0, 0, 0, 0]</td>\n",
       "      <td>50</td>\n",
       "      <td>bass_synthetic_033</td>\n",
       "      <td>417</td>\n",
       "      <td>100</td>\n",
       "    </tr>\n",
       "    <tr>\n",
       "      <th>bass_synthetic_009-052-050</th>\n",
       "      <td>bass_synthetic_009-052-050</td>\n",
       "      <td>16000</td>\n",
       "      <td>[bright, distortion, long_release]</td>\n",
       "      <td>2</td>\n",
       "      <td>bass</td>\n",
       "      <td>0</td>\n",
       "      <td>270001</td>\n",
       "      <td>synthetic</td>\n",
       "      <td>[1, 0, 1, 0, 1, 0, 0, 0, 0, 0]</td>\n",
       "      <td>52</td>\n",
       "      <td>bass_synthetic_009</td>\n",
       "      <td>150</td>\n",
       "      <td>50</td>\n",
       "    </tr>\n",
       "    <tr>\n",
       "      <th>keyboard_electronic_003-064-127</th>\n",
       "      <td>keyboard_electronic_003-064-127</td>\n",
       "      <td>16000</td>\n",
       "      <td>[]</td>\n",
       "      <td>1</td>\n",
       "      <td>keyboard</td>\n",
       "      <td>4</td>\n",
       "      <td>50978</td>\n",
       "      <td>electronic</td>\n",
       "      <td>[0, 0, 0, 0, 0, 0, 0, 0, 0, 0]</td>\n",
       "      <td>64</td>\n",
       "      <td>keyboard_electronic_003</td>\n",
       "      <td>65</td>\n",
       "      <td>127</td>\n",
       "    </tr>\n",
       "    <tr>\n",
       "      <th>bass_synthetic_034-030-050</th>\n",
       "      <td>bass_synthetic_034-030-050</td>\n",
       "      <td>16000</td>\n",
       "      <td>[distortion, tempo-synced]</td>\n",
       "      <td>2</td>\n",
       "      <td>bass</td>\n",
       "      <td>0</td>\n",
       "      <td>265159</td>\n",
       "      <td>synthetic</td>\n",
       "      <td>[0, 0, 1, 0, 0, 0, 0, 0, 0, 1]</td>\n",
       "      <td>30</td>\n",
       "      <td>bass_synthetic_034</td>\n",
       "      <td>420</td>\n",
       "      <td>50</td>\n",
       "    </tr>\n",
       "    <tr>\n",
       "      <th>bass_synthetic_098-040-025</th>\n",
       "      <td>bass_synthetic_098-040-025</td>\n",
       "      <td>16000</td>\n",
       "      <td>[dark]</td>\n",
       "      <td>2</td>\n",
       "      <td>bass</td>\n",
       "      <td>0</td>\n",
       "      <td>254242</td>\n",
       "      <td>synthetic</td>\n",
       "      <td>[0, 1, 0, 0, 0, 0, 0, 0, 0, 0]</td>\n",
       "      <td>40</td>\n",
       "      <td>bass_synthetic_098</td>\n",
       "      <td>803</td>\n",
       "      <td>25</td>\n",
       "    </tr>\n",
       "    <tr>\n",
       "      <th>bass_synthetic_009-083-075</th>\n",
       "      <td>bass_synthetic_009-083-075</td>\n",
       "      <td>16000</td>\n",
       "      <td>[bright, distortion, long_release]</td>\n",
       "      <td>2</td>\n",
       "      <td>bass</td>\n",
       "      <td>0</td>\n",
       "      <td>25301</td>\n",
       "      <td>synthetic</td>\n",
       "      <td>[1, 0, 1, 0, 1, 0, 0, 0, 0, 0]</td>\n",
       "      <td>83</td>\n",
       "      <td>bass_synthetic_009</td>\n",
       "      <td>150</td>\n",
       "      <td>75</td>\n",
       "    </tr>\n",
       "    <tr>\n",
       "      <th>mallet_acoustic_062-033-075</th>\n",
       "      <td>mallet_acoustic_062-033-075</td>\n",
       "      <td>16000</td>\n",
       "      <td>[dark, multiphonic]</td>\n",
       "      <td>0</td>\n",
       "      <td>mallet</td>\n",
       "      <td>5</td>\n",
       "      <td>119907</td>\n",
       "      <td>acoustic</td>\n",
       "      <td>[0, 1, 0, 0, 0, 1, 0, 0, 0, 0]</td>\n",
       "      <td>33</td>\n",
       "      <td>mallet_acoustic_062</td>\n",
       "      <td>644</td>\n",
       "      <td>75</td>\n",
       "    </tr>\n",
       "    <tr>\n",
       "      <th>organ_electronic_113-028-075</th>\n",
       "      <td>organ_electronic_113-028-075</td>\n",
       "      <td>16000</td>\n",
       "      <td>[dark]</td>\n",
       "      <td>1</td>\n",
       "      <td>organ</td>\n",
       "      <td>6</td>\n",
       "      <td>245891</td>\n",
       "      <td>electronic</td>\n",
       "      <td>[0, 1, 0, 0, 0, 0, 0, 0, 0, 0]</td>\n",
       "      <td>28</td>\n",
       "      <td>organ_electronic_113</td>\n",
       "      <td>958</td>\n",
       "      <td>75</td>\n",
       "    </tr>\n",
       "    <tr>\n",
       "      <th>keyboard_electronic_098-072-100</th>\n",
       "      <td>keyboard_electronic_098-072-100</td>\n",
       "      <td>16000</td>\n",
       "      <td>[]</td>\n",
       "      <td>1</td>\n",
       "      <td>keyboard</td>\n",
       "      <td>4</td>\n",
       "      <td>261635</td>\n",
       "      <td>electronic</td>\n",
       "      <td>[0, 0, 0, 0, 0, 0, 0, 0, 0, 0]</td>\n",
       "      <td>72</td>\n",
       "      <td>keyboard_electronic_098</td>\n",
       "      <td>905</td>\n",
       "      <td>100</td>\n",
       "    </tr>\n",
       "  </tbody>\n",
       "</table>\n",
       "</div>"
      ],
      "text/plain": [
       "                                                        note_str sample_rate  \\\n",
       "keyboard_acoustic_004-060-025      keyboard_acoustic_004-060-025       16000   \n",
       "bass_synthetic_033-050-100            bass_synthetic_033-050-100       16000   \n",
       "bass_synthetic_009-052-050            bass_synthetic_009-052-050       16000   \n",
       "keyboard_electronic_003-064-127  keyboard_electronic_003-064-127       16000   \n",
       "bass_synthetic_034-030-050            bass_synthetic_034-030-050       16000   \n",
       "bass_synthetic_098-040-025            bass_synthetic_098-040-025       16000   \n",
       "bass_synthetic_009-083-075            bass_synthetic_009-083-075       16000   \n",
       "mallet_acoustic_062-033-075          mallet_acoustic_062-033-075       16000   \n",
       "organ_electronic_113-028-075        organ_electronic_113-028-075       16000   \n",
       "keyboard_electronic_098-072-100  keyboard_electronic_098-072-100       16000   \n",
       "\n",
       "                                                      qualities_str  \\\n",
       "keyboard_acoustic_004-060-025                        [dark, reverb]   \n",
       "bass_synthetic_033-050-100                                   [dark]   \n",
       "bass_synthetic_009-052-050       [bright, distortion, long_release]   \n",
       "keyboard_electronic_003-064-127                                  []   \n",
       "bass_synthetic_034-030-050               [distortion, tempo-synced]   \n",
       "bass_synthetic_098-040-025                                   [dark]   \n",
       "bass_synthetic_009-083-075       [bright, distortion, long_release]   \n",
       "mallet_acoustic_062-033-075                     [dark, multiphonic]   \n",
       "organ_electronic_113-028-075                                 [dark]   \n",
       "keyboard_electronic_098-072-100                                  []   \n",
       "\n",
       "                                instrument_source instrument_family_str  \\\n",
       "keyboard_acoustic_004-060-025                   0              keyboard   \n",
       "bass_synthetic_033-050-100                      2                  bass   \n",
       "bass_synthetic_009-052-050                      2                  bass   \n",
       "keyboard_electronic_003-064-127                 1              keyboard   \n",
       "bass_synthetic_034-030-050                      2                  bass   \n",
       "bass_synthetic_098-040-025                      2                  bass   \n",
       "bass_synthetic_009-083-075                      2                  bass   \n",
       "mallet_acoustic_062-033-075                     0                mallet   \n",
       "organ_electronic_113-028-075                    1                 organ   \n",
       "keyboard_electronic_098-072-100                 1              keyboard   \n",
       "\n",
       "                                instrument_family    note  \\\n",
       "keyboard_acoustic_004-060-025                   4  278915   \n",
       "bass_synthetic_033-050-100                      0  270361   \n",
       "bass_synthetic_009-052-050                      0  270001   \n",
       "keyboard_electronic_003-064-127                 4   50978   \n",
       "bass_synthetic_034-030-050                      0  265159   \n",
       "bass_synthetic_098-040-025                      0  254242   \n",
       "bass_synthetic_009-083-075                      0   25301   \n",
       "mallet_acoustic_062-033-075                     5  119907   \n",
       "organ_electronic_113-028-075                    6  245891   \n",
       "keyboard_electronic_098-072-100                 4  261635   \n",
       "\n",
       "                                instrument_source_str  \\\n",
       "keyboard_acoustic_004-060-025                acoustic   \n",
       "bass_synthetic_033-050-100                  synthetic   \n",
       "bass_synthetic_009-052-050                  synthetic   \n",
       "keyboard_electronic_003-064-127            electronic   \n",
       "bass_synthetic_034-030-050                  synthetic   \n",
       "bass_synthetic_098-040-025                  synthetic   \n",
       "bass_synthetic_009-083-075                  synthetic   \n",
       "mallet_acoustic_062-033-075                  acoustic   \n",
       "organ_electronic_113-028-075               electronic   \n",
       "keyboard_electronic_098-072-100            electronic   \n",
       "\n",
       "                                                      qualities pitch  \\\n",
       "keyboard_acoustic_004-060-025    [0, 1, 0, 0, 0, 0, 0, 0, 1, 0]    60   \n",
       "bass_synthetic_033-050-100       [0, 1, 0, 0, 0, 0, 0, 0, 0, 0]    50   \n",
       "bass_synthetic_009-052-050       [1, 0, 1, 0, 1, 0, 0, 0, 0, 0]    52   \n",
       "keyboard_electronic_003-064-127  [0, 0, 0, 0, 0, 0, 0, 0, 0, 0]    64   \n",
       "bass_synthetic_034-030-050       [0, 0, 1, 0, 0, 0, 0, 0, 0, 1]    30   \n",
       "bass_synthetic_098-040-025       [0, 1, 0, 0, 0, 0, 0, 0, 0, 0]    40   \n",
       "bass_synthetic_009-083-075       [1, 0, 1, 0, 1, 0, 0, 0, 0, 0]    83   \n",
       "mallet_acoustic_062-033-075      [0, 1, 0, 0, 0, 1, 0, 0, 0, 0]    33   \n",
       "organ_electronic_113-028-075     [0, 1, 0, 0, 0, 0, 0, 0, 0, 0]    28   \n",
       "keyboard_electronic_098-072-100  [0, 0, 0, 0, 0, 0, 0, 0, 0, 0]    72   \n",
       "\n",
       "                                          instrument_str instrument velocity  \n",
       "keyboard_acoustic_004-060-025      keyboard_acoustic_004        327       25  \n",
       "bass_synthetic_033-050-100            bass_synthetic_033        417      100  \n",
       "bass_synthetic_009-052-050            bass_synthetic_009        150       50  \n",
       "keyboard_electronic_003-064-127  keyboard_electronic_003         65      127  \n",
       "bass_synthetic_034-030-050            bass_synthetic_034        420       50  \n",
       "bass_synthetic_098-040-025            bass_synthetic_098        803       25  \n",
       "bass_synthetic_009-083-075            bass_synthetic_009        150       75  \n",
       "mallet_acoustic_062-033-075          mallet_acoustic_062        644       75  \n",
       "organ_electronic_113-028-075        organ_electronic_113        958       75  \n",
       "keyboard_electronic_098-072-100  keyboard_electronic_098        905      100  "
      ]
     },
     "execution_count": 58,
     "metadata": {},
     "output_type": "execute_result"
    }
   ],
   "source": [
    "df = pd.read_json('nsynth-valid/examples.json').transpose()\n",
    "df.head(10)"
   ]
  },
  {
   "cell_type": "code",
   "execution_count": 71,
   "id": "9fe5b0f0-14bd-497b-a9a8-e57b99f959fb",
   "metadata": {},
   "outputs": [],
   "source": [
    "def extract_features(audio_file_path):\n",
    "    y, sr = librosa.load(audio_file_path, sr=None)\n",
    "\n",
    "    # Harmonic / Percussive\n",
    "    y_harmonic, y_percussive = librosa.effects.hpss(y)\n",
    "    harmonic_magnitude = np.mean(y_harmonic)\n",
    "    percussive_magnitude = np.mean(y_percussive)\n",
    "    hpss = [harmonic_magnitude, percussive_magnitude]\n",
    "\n",
    "    # Mel-frequency cepstral coefficients (MFCCs) averaged over time\n",
    "    mfcc = np.mean(librosa.feature.mfcc(y=y, sr=sr, n_mfcc=13),axis=1)\n",
    "\n",
    "    # mel-scaled spectrogram averaged over time\n",
    "    spectrogram = np.mean(librosa.feature.melspectrogram(y=y, sr=sr, n_mels=128,fmax=8000), axis=1)\n",
    "\n",
    "    # compute chroma energy averaged over time\n",
    "    chroma = np.mean(librosa.feature.chroma_cens(y=y, sr=sr), axis=1)\n",
    "\n",
    "    # compute spectral contrast\n",
    "    contrast = np.mean(librosa.feature.spectral_contrast(y=y, sr=sr), axis=1)\n",
    "\n",
    "    return np.hstack([hpss, mfcc, spectrogram, chroma, contrast])"
   ]
  },
  {
   "cell_type": "code",
   "execution_count": 186,
   "id": "b23b5175-2910-404a-9146-300b8303b396",
   "metadata": {},
   "outputs": [],
   "source": [
    "def load_dataset(dataset_path, label_name, limit=None, onehot=False, shuffle=True, label_encoder=None, feature_scaler=None):\n",
    "    print(f\"Loading {dataset_path} examples info...\")\n",
    "    df = pd.read_json(f'{dataset_path}/examples.json').transpose()\n",
    "    df[\"audio_file_path\"] = df[\"note_str\"].apply(lambda x: f'{dataset_path}/audio/' + x + '.wav')\n",
    "    if shuffle:\n",
    "        print(\"Shuffling rows...\")\n",
    "        df = sklearn.utils.shuffle(df)\n",
    "\n",
    "    N = limit if limit is not None else len(df)\n",
    "\n",
    "    print(\"Loading labels...\")\n",
    "    encoder = None\n",
    "    if label_encoder is not None:\n",
    "        encoder = label_encoder\n",
    "        labels = encoder.transform(df[[label_name]][:N]).toarray()\n",
    "    elif onehot:\n",
    "        encoder = sklearn.preprocessing.OneHotEncoder(handle_unknown='ignore')\n",
    "        labels = encoder.fit_transform(df[[label_name]][:N]).toarray()\n",
    "    else:\n",
    "        labels = df[label_name].values\n",
    "\n",
    "    print(f\"Extracting features for {N} examples...\")\n",
    "    raw_features = np.array([extract_features(fp) for fp in df[\"audio_file_path\"].values[:N]])\n",
    "\n",
    "    if feature_scaler is None:\n",
    "        print(\"Fitting feature scaler...\")\n",
    "        feature_scaler = sklearn.preprocessing.StandardScaler()\n",
    "        feature_scaler.fit(raw_features)\n",
    "        \n",
    "    print(\"Applying standard scaling...\")\n",
    "    features = feature_scaler.transform(raw_features)\n",
    "\n",
    "    print(\"Done!\")\n",
    "    return features, labels, df, encoder, feature_scaler"
   ]
  },
  {
   "cell_type": "code",
   "execution_count": 185,
   "id": "8352039a-e29a-415a-8d81-256e4bc695d3",
   "metadata": {},
   "outputs": [
    {
     "name": "stdout",
     "output_type": "stream",
     "text": [
      "Loading nsynth-test examples info...\n",
      "Shuffling rows...\n",
      "Loading labels...\n",
      "Extracting features for 10 examples...\n",
      "Applying standard scaling...\n",
      "Done!\n"
     ]
    }
   ],
   "source": [
    "# The dataset path will be `nsynth-train`, `nsynth-valid` or `nsynth-test` if you've downloaded it with the Makefile.\n",
    "# Othersize this needs to point to the directory with the extracted archives.\n",
    "features, labels, df, *_ = load_dataset(\"nsynth-test\", \"instrument_family_str\", limit=10, onehot=True)"
   ]
  },
  {
   "cell_type": "code",
   "execution_count": 79,
   "id": "b4864bc2-f38f-4f4f-9b92-ffc57e665bb4",
   "metadata": {},
   "outputs": [
    {
     "data": {
      "text/plain": [
       "array([[-0.33230003,  0.29328011, -0.82040979, ..., -1.04692131,\n",
       "        -0.88444762, -1.13654426],\n",
       "       [-0.33242278,  0.34337244, -0.29672258, ..., -0.15192529,\n",
       "        -0.33718003, -1.06768653],\n",
       "       [-0.33248534,  0.3815953 , -0.30907994, ...,  0.85611916,\n",
       "         0.28320446, -0.62706768],\n",
       "       ...,\n",
       "       [-0.3410816 , -2.99896025,  2.80647452, ..., -1.17163004,\n",
       "        -0.8286847 ,  0.98057759],\n",
       "       [-0.33218897,  0.30723564, -0.30822448, ..., -0.06169011,\n",
       "        -0.35359835, -0.69066209],\n",
       "       [-0.33257202,  0.37058232, -0.75502056, ..., -0.90678082,\n",
       "        -0.73752751, -0.62017645]])"
      ]
     },
     "execution_count": 79,
     "metadata": {},
     "output_type": "execute_result"
    }
   ],
   "source": [
    "# All the librosa features are concatenated into one long array per example.\n",
    "features"
   ]
  },
  {
   "cell_type": "code",
   "execution_count": 122,
   "id": "3fb229e9-ba4b-4604-854b-e3c8e968c0e5",
   "metadata": {},
   "outputs": [
    {
     "data": {
      "text/plain": [
       "array([[0., 0., 0., ..., 0., 0., 0.],\n",
       "       [1., 0., 0., ..., 0., 0., 0.],\n",
       "       [1., 0., 0., ..., 0., 0., 0.],\n",
       "       ...,\n",
       "       [0., 0., 0., ..., 0., 0., 1.],\n",
       "       [1., 0., 0., ..., 0., 0., 0.],\n",
       "       [0., 0., 0., ..., 0., 0., 0.]])"
      ]
     },
     "execution_count": 122,
     "metadata": {},
     "output_type": "execute_result"
    }
   ],
   "source": [
    "# The labels are 1-Hot encoded, meaning the integer class i is represented by element y_i = 1 in the labels array.\n",
    "labels"
   ]
  },
  {
   "cell_type": "code",
   "execution_count": 81,
   "id": "e243f065-a201-4016-bd81-366de99c771e",
   "metadata": {},
   "outputs": [
    {
     "data": {
      "text/html": [
       "<div>\n",
       "<style scoped>\n",
       "    .dataframe tbody tr th:only-of-type {\n",
       "        vertical-align: middle;\n",
       "    }\n",
       "\n",
       "    .dataframe tbody tr th {\n",
       "        vertical-align: top;\n",
       "    }\n",
       "\n",
       "    .dataframe thead th {\n",
       "        text-align: right;\n",
       "    }\n",
       "</style>\n",
       "<table border=\"1\" class=\"dataframe\">\n",
       "  <thead>\n",
       "    <tr style=\"text-align: right;\">\n",
       "      <th></th>\n",
       "      <th>qualities</th>\n",
       "      <th>pitch</th>\n",
       "      <th>note</th>\n",
       "      <th>instrument_source_str</th>\n",
       "      <th>velocity</th>\n",
       "      <th>instrument_str</th>\n",
       "      <th>instrument</th>\n",
       "      <th>sample_rate</th>\n",
       "      <th>qualities_str</th>\n",
       "      <th>instrument_source</th>\n",
       "      <th>note_str</th>\n",
       "      <th>instrument_family</th>\n",
       "      <th>instrument_family_str</th>\n",
       "      <th>audio_file_path</th>\n",
       "    </tr>\n",
       "  </thead>\n",
       "  <tbody>\n",
       "    <tr>\n",
       "      <th>bass_synthetic_068-049-025</th>\n",
       "      <td>[0, 1, 0, 0, 0, 0, 0, 0, 0, 0]</td>\n",
       "      <td>49</td>\n",
       "      <td>217499</td>\n",
       "      <td>synthetic</td>\n",
       "      <td>25</td>\n",
       "      <td>bass_synthetic_068</td>\n",
       "      <td>656</td>\n",
       "      <td>16000</td>\n",
       "      <td>[dark]</td>\n",
       "      <td>2</td>\n",
       "      <td>bass_synthetic_068-049-025</td>\n",
       "      <td>0</td>\n",
       "      <td>bass</td>\n",
       "      <td>nsynth-test/audio/bass_synthetic_068-049-025.wav</td>\n",
       "    </tr>\n",
       "    <tr>\n",
       "      <th>keyboard_electronic_001-021-127</th>\n",
       "      <td>[0, 0, 0, 0, 0, 0, 0, 0, 0, 0]</td>\n",
       "      <td>21</td>\n",
       "      <td>299359</td>\n",
       "      <td>electronic</td>\n",
       "      <td>127</td>\n",
       "      <td>keyboard_electronic_001</td>\n",
       "      <td>40</td>\n",
       "      <td>16000</td>\n",
       "      <td>[]</td>\n",
       "      <td>1</td>\n",
       "      <td>keyboard_electronic_001-021-127</td>\n",
       "      <td>4</td>\n",
       "      <td>keyboard</td>\n",
       "      <td>nsynth-test/audio/keyboard_electronic_001-021-...</td>\n",
       "    </tr>\n",
       "    <tr>\n",
       "      <th>guitar_acoustic_010-066-100</th>\n",
       "      <td>[0, 0, 0, 0, 0, 0, 0, 0, 0, 0]</td>\n",
       "      <td>66</td>\n",
       "      <td>72288</td>\n",
       "      <td>acoustic</td>\n",
       "      <td>100</td>\n",
       "      <td>guitar_acoustic_010</td>\n",
       "      <td>219</td>\n",
       "      <td>16000</td>\n",
       "      <td>[]</td>\n",
       "      <td>0</td>\n",
       "      <td>guitar_acoustic_010-066-100</td>\n",
       "      <td>3</td>\n",
       "      <td>guitar</td>\n",
       "      <td>nsynth-test/audio/guitar_acoustic_010-066-100.wav</td>\n",
       "    </tr>\n",
       "    <tr>\n",
       "      <th>reed_acoustic_037-068-127</th>\n",
       "      <td>[0, 0, 0, 0, 0, 0, 0, 0, 1, 0]</td>\n",
       "      <td>68</td>\n",
       "      <td>22259</td>\n",
       "      <td>acoustic</td>\n",
       "      <td>127</td>\n",
       "      <td>reed_acoustic_037</td>\n",
       "      <td>387</td>\n",
       "      <td>16000</td>\n",
       "      <td>[reverb]</td>\n",
       "      <td>0</td>\n",
       "      <td>reed_acoustic_037-068-127</td>\n",
       "      <td>7</td>\n",
       "      <td>reed</td>\n",
       "      <td>nsynth-test/audio/reed_acoustic_037-068-127.wav</td>\n",
       "    </tr>\n",
       "    <tr>\n",
       "      <th>flute_acoustic_002-077-100</th>\n",
       "      <td>[0, 0, 0, 0, 0, 0, 0, 0, 1, 0]</td>\n",
       "      <td>77</td>\n",
       "      <td>72001</td>\n",
       "      <td>acoustic</td>\n",
       "      <td>100</td>\n",
       "      <td>flute_acoustic_002</td>\n",
       "      <td>86</td>\n",
       "      <td>16000</td>\n",
       "      <td>[reverb]</td>\n",
       "      <td>0</td>\n",
       "      <td>flute_acoustic_002-077-100</td>\n",
       "      <td>2</td>\n",
       "      <td>flute</td>\n",
       "      <td>nsynth-test/audio/flute_acoustic_002-077-100.wav</td>\n",
       "    </tr>\n",
       "  </tbody>\n",
       "</table>\n",
       "</div>"
      ],
      "text/plain": [
       "                                                      qualities pitch    note  \\\n",
       "bass_synthetic_068-049-025       [0, 1, 0, 0, 0, 0, 0, 0, 0, 0]    49  217499   \n",
       "keyboard_electronic_001-021-127  [0, 0, 0, 0, 0, 0, 0, 0, 0, 0]    21  299359   \n",
       "guitar_acoustic_010-066-100      [0, 0, 0, 0, 0, 0, 0, 0, 0, 0]    66   72288   \n",
       "reed_acoustic_037-068-127        [0, 0, 0, 0, 0, 0, 0, 0, 1, 0]    68   22259   \n",
       "flute_acoustic_002-077-100       [0, 0, 0, 0, 0, 0, 0, 0, 1, 0]    77   72001   \n",
       "\n",
       "                                instrument_source_str velocity  \\\n",
       "bass_synthetic_068-049-025                  synthetic       25   \n",
       "keyboard_electronic_001-021-127            electronic      127   \n",
       "guitar_acoustic_010-066-100                  acoustic      100   \n",
       "reed_acoustic_037-068-127                    acoustic      127   \n",
       "flute_acoustic_002-077-100                   acoustic      100   \n",
       "\n",
       "                                          instrument_str instrument  \\\n",
       "bass_synthetic_068-049-025            bass_synthetic_068        656   \n",
       "keyboard_electronic_001-021-127  keyboard_electronic_001         40   \n",
       "guitar_acoustic_010-066-100          guitar_acoustic_010        219   \n",
       "reed_acoustic_037-068-127              reed_acoustic_037        387   \n",
       "flute_acoustic_002-077-100            flute_acoustic_002         86   \n",
       "\n",
       "                                sample_rate qualities_str instrument_source  \\\n",
       "bass_synthetic_068-049-025            16000        [dark]                 2   \n",
       "keyboard_electronic_001-021-127       16000            []                 1   \n",
       "guitar_acoustic_010-066-100           16000            []                 0   \n",
       "reed_acoustic_037-068-127             16000      [reverb]                 0   \n",
       "flute_acoustic_002-077-100            16000      [reverb]                 0   \n",
       "\n",
       "                                                        note_str  \\\n",
       "bass_synthetic_068-049-025            bass_synthetic_068-049-025   \n",
       "keyboard_electronic_001-021-127  keyboard_electronic_001-021-127   \n",
       "guitar_acoustic_010-066-100          guitar_acoustic_010-066-100   \n",
       "reed_acoustic_037-068-127              reed_acoustic_037-068-127   \n",
       "flute_acoustic_002-077-100            flute_acoustic_002-077-100   \n",
       "\n",
       "                                instrument_family instrument_family_str  \\\n",
       "bass_synthetic_068-049-025                      0                  bass   \n",
       "keyboard_electronic_001-021-127                 4              keyboard   \n",
       "guitar_acoustic_010-066-100                     3                guitar   \n",
       "reed_acoustic_037-068-127                       7                  reed   \n",
       "flute_acoustic_002-077-100                      2                 flute   \n",
       "\n",
       "                                                                   audio_file_path  \n",
       "bass_synthetic_068-049-025        nsynth-test/audio/bass_synthetic_068-049-025.wav  \n",
       "keyboard_electronic_001-021-127  nsynth-test/audio/keyboard_electronic_001-021-...  \n",
       "guitar_acoustic_010-066-100      nsynth-test/audio/guitar_acoustic_010-066-100.wav  \n",
       "reed_acoustic_037-068-127          nsynth-test/audio/reed_acoustic_037-068-127.wav  \n",
       "flute_acoustic_002-077-100        nsynth-test/audio/flute_acoustic_002-077-100.wav  "
      ]
     },
     "execution_count": 81,
     "metadata": {},
     "output_type": "execute_result"
    }
   ],
   "source": [
    "# Sample the dataset metadata\n",
    "df.head()"
   ]
  },
  {
   "cell_type": "markdown",
   "id": "3d1e27f8-585e-4c39-8b80-4db52c454953",
   "metadata": {},
   "source": [
    "## Tinker with Model Choice on Tiny Dataset"
   ]
  },
  {
   "cell_type": "code",
   "execution_count": 37,
   "id": "06405ec1-48d2-4af2-9d1c-2c22820a67a2",
   "metadata": {},
   "outputs": [],
   "source": [
    "from sklearn.neural_network import MLPClassifier\n",
    "from sklearn.model_selection import train_test_split"
   ]
  },
  {
   "cell_type": "code",
   "execution_count": 85,
   "id": "51dfa0a2-89b9-4810-9263-e0183f513786",
   "metadata": {},
   "outputs": [
    {
     "name": "stdout",
     "output_type": "stream",
     "text": [
      "Loading dataset examples info...\n",
      "Loading labels...\n",
      "Extracting features for 200 examples...\n"
     ]
    },
    {
     "name": "stderr",
     "output_type": "stream",
     "text": [
      "/opt/conda/lib/python3.11/site-packages/librosa/core/pitch.py:101: UserWarning: Trying to estimate tuning from empty frequency set.\n",
      "  return pitch_tuning(\n"
     ]
    },
    {
     "name": "stdout",
     "output_type": "stream",
     "text": [
      "Applying standard scaling...\n",
      "Done!\n"
     ]
    }
   ],
   "source": [
    "features, labels, df, *_ = load_dataset(\"nsynth-test\", \"instrument_family_str\", limit=200, onehot=True)"
   ]
  },
  {
   "cell_type": "code",
   "execution_count": 86,
   "id": "6ac9a3d4-8d06-4ad5-8ec3-09fa4fcc1d80",
   "metadata": {},
   "outputs": [
    {
     "data": {
      "text/plain": [
       "array([41., 12., 10., 37., 40.,  6., 30.,  9.,  8.,  7.])"
      ]
     },
     "execution_count": 86,
     "metadata": {},
     "output_type": "execute_result"
    }
   ],
   "source": [
    "# The number of examples in each class. There needs to be >= 2 for sklearn accept it.\n",
    "labels.sum(axis=0)"
   ]
  },
  {
   "cell_type": "code",
   "execution_count": 87,
   "id": "ce696417-6d4f-4e48-90e3-24801224a86b",
   "metadata": {},
   "outputs": [],
   "source": [
    "# Split tiny dataset to make sure we're not making a memorizing algo\n",
    "X_train, X_test, y_train, y_test = train_test_split(features, labels, stratify=labels, random_state=3)"
   ]
  },
  {
   "cell_type": "code",
   "execution_count": 93,
   "id": "dca7bd0f-b1da-4159-82aa-d38031ba6ad3",
   "metadata": {},
   "outputs": [
    {
     "data": {
      "text/plain": [
       "(150, 162)"
      ]
     },
     "execution_count": 93,
     "metadata": {},
     "output_type": "execute_result"
    }
   ],
   "source": [
    "X_train.shape"
   ]
  },
  {
   "cell_type": "code",
   "execution_count": 107,
   "id": "ba2b6f6c-d3ef-4f0b-b6bb-fb557d2b58fd",
   "metadata": {},
   "outputs": [],
   "source": [
    "# A Multi-Layer Perception, i.e. a neural network should work for this.\n",
    "model = MLPClassifier(\n",
    "    random_state=1, \n",
    "    max_iter=1000, \n",
    "    hidden_layer_sizes=(X_train.shape[-1], 128, 64), \n",
    "    activation='logistic', \n",
    "    tol=1e-3, \n",
    "    verbose=True,\n",
    ")\n",
    "# Train for a bit then see if we do better than random (1/N-classes) on the holdout data.\n",
    "# If so, we may want to proceed to using the full dataset.\n",
    "model.fit(X_train, y_train)\n",
    "model.score(X_test, y_test)"
   ]
  },
  {
   "cell_type": "markdown",
   "id": "4ad24ec0-1c57-4c58-96b6-03f5498ec513",
   "metadata": {},
   "source": [
    "## Preprocess Full Dataset\n",
    "\n",
    "Pre-process the train, validation, and test datasets by reading each audio file and computing feature vectors and labels. This will take a while (~8 hours) so we will save the pre-processed NumPy feature/label arrays so we can train models in the future without re-processing the raw data."
   ]
  },
  {
   "cell_type": "code",
   "execution_count": 181,
   "id": "943ebe28-e8c5-45ed-9490-3897f24ae6c9",
   "metadata": {},
   "outputs": [],
   "source": [
    "dataset_version_key = 'v0'"
   ]
  },
  {
   "cell_type": "code",
   "execution_count": 134,
   "id": "c2c04da8-ee6f-4c1b-b3fb-5bfb79768e8a",
   "metadata": {},
   "outputs": [],
   "source": [
    "# If you've already pre-processed that dataset, run this then skip the reset of this section.\n",
    "\n",
    "# with open(f'nsynth-train-{dataset_version_key}.npy', 'rb') as f:\n",
    "#     features_train = np.load(f)\n",
    "#     labels_train = np.load(f)\n",
    "\n",
    "# with open(f'nsynth-valid-{dataset_version_key}.npy', 'rb') as f:\n",
    "#     features_valid = np.load(f)\n",
    "#     labels_valid = np.load(f)\n",
    "\n",
    "# with open(f'nsynth-test-{dataset_version_key}.npy', 'rb') as f:\n",
    "#     features_test = np.load(f)\n",
    "#     labels_test = np.load(f)"
   ]
  },
  {
   "cell_type": "code",
   "execution_count": 125,
   "id": "d42d7dce-8dd0-448f-bc9a-09c3c5d38614",
   "metadata": {},
   "outputs": [
    {
     "data": {
      "text/plain": [
       "289205"
      ]
     },
     "execution_count": 125,
     "metadata": {},
     "output_type": "execute_result"
    }
   ],
   "source": [
    "df = pd.read_json(f'nsynth-train/examples.json').transpose()\n",
    "len(df)"
   ]
  },
  {
   "cell_type": "code",
   "execution_count": null,
   "id": "3890ab93-74ca-49ac-acf4-6ac432327d4f",
   "metadata": {},
   "outputs": [
    {
     "name": "stdout",
     "output_type": "stream",
     "text": [
      "Loading nsynth-train examples info...\n",
      "Shuffling rows...\n",
      "Loading labels...\n",
      "Extracting features for 5000 examples...\n"
     ]
    },
    {
     "name": "stderr",
     "output_type": "stream",
     "text": [
      "/opt/conda/lib/python3.11/site-packages/librosa/core/pitch.py:101: UserWarning: Trying to estimate tuning from empty frequency set.\n",
      "  return pitch_tuning(\n"
     ]
    }
   ],
   "source": [
    "features_train, labels_train, df_train, label_encoder, feature_scaler = load_dataset(\"nsynth-train\", \"instrument_family_str\", onehot=True, limit=5000)\n",
    "\n",
    "encoder_train.categories_"
   ]
  },
  {
   "cell_type": "code",
   "execution_count": null,
   "id": "186f5e11-310d-428d-91dd-383933f2198f",
   "metadata": {},
   "outputs": [],
   "source": [
    "with open(f'nsynth-train-{dataset_version_key}.npy', 'wb') as f:\n",
    "    np.save(f, features_train)\n",
    "    np.save(f, labels_train)"
   ]
  },
  {
   "cell_type": "code",
   "execution_count": null,
   "id": "162be616-ed95-4216-9d71-e455b9e0f186",
   "metadata": {},
   "outputs": [],
   "source": [
    "features_valid, labels_valid, df_valid, *_ = load_dataset(\"nsynth-valid\", \"instrument_family_str\", label_encoder=label_encoder, feature_scaler=feature_scaler, limit=1000)"
   ]
  },
  {
   "cell_type": "code",
   "execution_count": null,
   "id": "0d619fb1-67d0-4e4f-bb2d-0c14ca460300",
   "metadata": {},
   "outputs": [],
   "source": [
    "with open(f'nsynth-valid-{dataset_version_key}.npy', 'wb') as f:\n",
    "    np.save(f, features_valid)\n",
    "    np.save(f, labels_valid)"
   ]
  },
  {
   "cell_type": "code",
   "execution_count": null,
   "id": "5c0e7148-a956-403d-93fc-d0037e32b594",
   "metadata": {},
   "outputs": [],
   "source": [
    "features_test, labels_test, df_test, *_ = load_dataset(\"nsynth-test\", \"instrument_family_str\", label_encoder=label_encoder, feature_scaler=feature_scaler, limit=500)"
   ]
  },
  {
   "cell_type": "code",
   "execution_count": null,
   "id": "6f742485-0991-40a3-8195-61ffa945365d",
   "metadata": {},
   "outputs": [],
   "source": [
    "with open(f'nsynth-test-{dataset_version_key}.npy', 'wb') as f:\n",
    "    np.save(f, features_test)\n",
    "    np.save(f, labels_test)"
   ]
  },
  {
   "cell_type": "markdown",
   "id": "bba7729a-7a15-476c-8189-fd2a24ec5b09",
   "metadata": {},
   "source": [
    "## Train a Real Model"
   ]
  },
  {
   "cell_type": "code",
   "execution_count": null,
   "id": "5ad6f9b7-9bda-4159-a94c-409be94dc47a",
   "metadata": {
    "scrolled": true
   },
   "outputs": [],
   "source": [
    "print(\"Training...\")\n",
    "model = MLPClassifier(\n",
    "    random_state=1, \n",
    "    max_iter=5000, \n",
    "    hidden_layer_sizes=(features_train.shape[-1], 128, 64), \n",
    "    activation='logistic', \n",
    "    tol=1e-5, \n",
    "    verbose=True,\n",
    ")\n",
    "model.fit(features_train, labels_train)\n",
    "\n",
    "print(\"Train      Accuracy:\", model.score(features_train, labels_train))\n",
    "print(\"Validation Accuracy:\", model.score(features_valid, labels_valid))\n",
    "print(\"Test       Accuracy:\", model.score(features_test, labels_test))"
   ]
  },
  {
   "cell_type": "code",
   "execution_count": null,
   "id": "0b04bfaf-0a2e-44dc-b5fb-b7bb0078792d",
   "metadata": {},
   "outputs": [],
   "source": [
    "import pickle\n",
    "\n",
    "with open(f'model-{dataset_version_key}.pkl', 'wb') as f:\n",
    "    pickle.dump(model, f)"
   ]
  },
  {
   "cell_type": "code",
   "execution_count": null,
   "id": "c1b2615e-cbea-4bb3-bfda-acaf41e89c4d",
   "metadata": {},
   "outputs": [],
   "source": []
  }
 ],
 "metadata": {
  "kernelspec": {
   "display_name": "Python 3 (ipykernel)",
   "language": "python",
   "name": "python3"
  },
  "language_info": {
   "codemirror_mode": {
    "name": "ipython",
    "version": 3
   },
   "file_extension": ".py",
   "mimetype": "text/x-python",
   "name": "python",
   "nbconvert_exporter": "python",
   "pygments_lexer": "ipython3",
   "version": "3.11.7"
  }
 },
 "nbformat": 4,
 "nbformat_minor": 5
}
